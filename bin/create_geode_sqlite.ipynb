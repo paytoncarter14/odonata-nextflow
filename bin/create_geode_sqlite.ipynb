{
 "cells": [
  {
   "cell_type": "code",
   "execution_count": 1,
   "id": "a423ec46-4afd-4beb-b31b-246564513622",
   "metadata": {},
   "outputs": [],
   "source": [
    "import pandas as pd"
   ]
  },
  {
   "cell_type": "code",
   "execution_count": 22,
   "id": "1da22a7c-3849-497a-80aa-18585d2c68d7",
   "metadata": {},
   "outputs": [],
   "source": [
    "import re"
   ]
  },
  {
   "cell_type": "markdown",
   "id": "d177d530-d514-4707-9d47-ccb93b341f72",
   "metadata": {},
   "source": [
    "## Get the GEODE taxa list into a dataframe"
   ]
  },
  {
   "cell_type": "code",
   "execution_count": 2,
   "id": "d370eff3-0085-4b18-b661-b2e71901091c",
   "metadata": {},
   "outputs": [],
   "source": [
    "geode_taxa_list_csv = '/nobackup/scratch/grp/grp_geode/scripts_and_files/prepare_data/geode_taxa_list.csv'\n",
    "geode_taxa_list = pd.read_csv(geode_taxa_list_csv, sep=',', header=None, names=['names', 'sequence_id'])"
   ]
  },
  {
   "cell_type": "code",
   "execution_count": 3,
   "id": "e3fcf22a-305a-4f47-af5a-7d45e53eb181",
   "metadata": {},
   "outputs": [],
   "source": [
    "names = geode_taxa_list['names'].str.split(pat='_', expand=True)\n",
    "geode_taxa_list[['geode_id', 'family', 'genus', 'species']] = names"
   ]
  },
  {
   "cell_type": "markdown",
   "id": "b1fccad2-0e33-4737-8c77-1248ac6106ed",
   "metadata": {},
   "source": [
    "## Find the probe set, plate, and fastq"
   ]
  },
  {
   "cell_type": "code",
   "execution_count": 4,
   "id": "7fca01ce-039f-4aee-83c9-fa6e974245ca",
   "metadata": {},
   "outputs": [],
   "source": [
    "from pathlib import Path\n",
    "import itertools\n",
    "import sys"
   ]
  },
  {
   "cell_type": "code",
   "execution_count": 29,
   "id": "3061e508-d042-44f1-b09e-08c3a83e6b74",
   "metadata": {},
   "outputs": [],
   "source": [
    "def split_path_values(sequence_id):\n",
    "    raw_sequence_dir = '/nobackup/scratch/grp/grp_geode/raw_sequences'\n",
    "    full_path = str(list(itertools.islice(Path(raw_sequence_dir).rglob(f\"*{sequence_id}*\"), 1))[0])\n",
    "    full_path_split = full_path.split('/')\n",
    "    folder = '/'.join(full_path_split[:-1])\n",
    "    try:\n",
    "        plate = re.search(r'/(plate\\d{1,3})/', full_path).group(1)\n",
    "    except AttributeError:\n",
    "        plate = ''\n",
    "    probe_set = re.search(r'/(\\d{2,3}kb)/', full_path).group(1)\n",
    "    fastq = full_path_split[-1].replace('_R1_001.fastq.gz', '')\n",
    "    return (folder, plate, probe_set, fastq)"
   ]
  },
  {
   "cell_type": "code",
   "execution_count": 26,
   "id": "94f255e2-fb35-4009-aa6f-5f4b9c1a6a66",
   "metadata": {},
   "outputs": [
    {
     "name": "stdout",
     "output_type": "stream",
     "text": [
      "('/nobackup/scratch/grp/grp_geode/raw_sequences/500kb/plate1', 'plate1', '500kb', '105602_P001_WA01_R2.fastq.gz')\n",
      "('/nobackup/scratch/grp/grp_geode/raw_sequences/20kb/plate01/fastqs', 'plate01', '20kb', 'RAPiD-Genomics_F320_BYU_105603_P001_WA01_i5-535_i7-59_S337_L001_R2_001.fastq.gz')\n"
     ]
    }
   ],
   "source": [
    "print(split_path_values('105602_P001_WA01'))\n",
    "print(split_path_values('105603_P001_WA01'))"
   ]
  },
  {
   "cell_type": "code",
   "execution_count": 30,
   "id": "8921a718-e92c-4eba-bae6-22409d1bb870",
   "metadata": {},
   "outputs": [],
   "source": [
    "split_path_result = geode_taxa_list['sequence_id'].map(split_path_values)"
   ]
  },
  {
   "cell_type": "code",
   "execution_count": 31,
   "id": "0417c905-39aa-415c-ba0b-4dc21d126989",
   "metadata": {},
   "outputs": [],
   "source": [
    "geode_taxa_list[['folder', 'plate', 'probe_set', 'fastq']] = pd.DataFrame(split_path_result.to_list())"
   ]
  },
  {
   "cell_type": "code",
   "execution_count": 32,
   "id": "9b510f0e-f308-49cc-832b-199dc47863c9",
   "metadata": {},
   "outputs": [
    {
     "data": {
      "text/html": [
       "<div>\n",
       "<style scoped>\n",
       "    .dataframe tbody tr th:only-of-type {\n",
       "        vertical-align: middle;\n",
       "    }\n",
       "\n",
       "    .dataframe tbody tr th {\n",
       "        vertical-align: top;\n",
       "    }\n",
       "\n",
       "    .dataframe thead th {\n",
       "        text-align: right;\n",
       "    }\n",
       "</style>\n",
       "<table border=\"1\" class=\"dataframe\">\n",
       "  <thead>\n",
       "    <tr style=\"text-align: right;\">\n",
       "      <th></th>\n",
       "      <th>names</th>\n",
       "      <th>sequence_id</th>\n",
       "      <th>geode_id</th>\n",
       "      <th>family</th>\n",
       "      <th>genus</th>\n",
       "      <th>species</th>\n",
       "      <th>folder</th>\n",
       "      <th>plate</th>\n",
       "      <th>probe_set</th>\n",
       "      <th>fastq</th>\n",
       "    </tr>\n",
       "  </thead>\n",
       "  <tbody>\n",
       "  </tbody>\n",
       "</table>\n",
       "</div>"
      ],
      "text/plain": [
       "Empty DataFrame\n",
       "Columns: [names, sequence_id, geode_id, family, genus, species, folder, plate, probe_set, fastq]\n",
       "Index: []"
      ]
     },
     "execution_count": 32,
     "metadata": {},
     "output_type": "execute_result"
    }
   ],
   "source": [
    "geode_taxa_list[(geode_taxa_list['probe_set'] != '20kb') & (geode_taxa_list['probe_set'] != '500kb')]"
   ]
  },
  {
   "cell_type": "code",
   "execution_count": 33,
   "id": "1992631d-b2a0-45f4-ad6a-8fa0aa635db8",
   "metadata": {},
   "outputs": [
    {
     "data": {
      "text/html": [
       "<div>\n",
       "<style scoped>\n",
       "    .dataframe tbody tr th:only-of-type {\n",
       "        vertical-align: middle;\n",
       "    }\n",
       "\n",
       "    .dataframe tbody tr th {\n",
       "        vertical-align: top;\n",
       "    }\n",
       "\n",
       "    .dataframe thead th {\n",
       "        text-align: right;\n",
       "    }\n",
       "</style>\n",
       "<table border=\"1\" class=\"dataframe\">\n",
       "  <thead>\n",
       "    <tr style=\"text-align: right;\">\n",
       "      <th></th>\n",
       "      <th>names</th>\n",
       "      <th>sequence_id</th>\n",
       "      <th>geode_id</th>\n",
       "      <th>family</th>\n",
       "      <th>genus</th>\n",
       "      <th>species</th>\n",
       "      <th>folder</th>\n",
       "      <th>plate</th>\n",
       "      <th>probe_set</th>\n",
       "      <th>fastq</th>\n",
       "    </tr>\n",
       "  </thead>\n",
       "  <tbody>\n",
       "    <tr>\n",
       "      <th>0</th>\n",
       "      <td>GEODE7884_Euphaeidae_Euphaea_guerini</td>\n",
       "      <td>105603_P001_WA01</td>\n",
       "      <td>GEODE7884</td>\n",
       "      <td>Euphaeidae</td>\n",
       "      <td>Euphaea</td>\n",
       "      <td>guerini</td>\n",
       "      <td>/nobackup/scratch/grp/grp_geode/raw_sequences/...</td>\n",
       "      <td>plate01</td>\n",
       "      <td>20kb</td>\n",
       "      <td>RAPiD-Genomics_F320_BYU_105603_P001_WA01_i5-53...</td>\n",
       "    </tr>\n",
       "    <tr>\n",
       "      <th>1</th>\n",
       "      <td>GEODE7885_Euphaeidae_Euphaea_refulgens</td>\n",
       "      <td>105603_P001_WA02</td>\n",
       "      <td>GEODE7885</td>\n",
       "      <td>Euphaeidae</td>\n",
       "      <td>Euphaea</td>\n",
       "      <td>refulgens</td>\n",
       "      <td>/nobackup/scratch/grp/grp_geode/raw_sequences/...</td>\n",
       "      <td>plate01</td>\n",
       "      <td>20kb</td>\n",
       "      <td>RAPiD-Genomics_F320_BYU_105603_P001_WA02_i5-53...</td>\n",
       "    </tr>\n",
       "    <tr>\n",
       "      <th>2</th>\n",
       "      <td>GEODE7886_Euphaeidae_Euphaea_splendens</td>\n",
       "      <td>105603_P001_WA03</td>\n",
       "      <td>GEODE7886</td>\n",
       "      <td>Euphaeidae</td>\n",
       "      <td>Euphaea</td>\n",
       "      <td>splendens</td>\n",
       "      <td>/nobackup/scratch/grp/grp_geode/raw_sequences/...</td>\n",
       "      <td>plate01</td>\n",
       "      <td>20kb</td>\n",
       "      <td>RAPiD-Genomics_F320_BYU_105603_P001_WA03_i5-53...</td>\n",
       "    </tr>\n",
       "    <tr>\n",
       "      <th>3</th>\n",
       "      <td>GEODE7887_Euphaeidae_Euphaea_ornata</td>\n",
       "      <td>105603_P001_WA04</td>\n",
       "      <td>GEODE7887</td>\n",
       "      <td>Euphaeidae</td>\n",
       "      <td>Euphaea</td>\n",
       "      <td>ornata</td>\n",
       "      <td>/nobackup/scratch/grp/grp_geode/raw_sequences/...</td>\n",
       "      <td>plate01</td>\n",
       "      <td>20kb</td>\n",
       "      <td>RAPiD-Genomics_F320_BYU_105603_P001_WA04_i5-53...</td>\n",
       "    </tr>\n",
       "    <tr>\n",
       "      <th>4</th>\n",
       "      <td>GEODE7888_Euphaeidae_Euphaea_inouei</td>\n",
       "      <td>105603_P001_WA05</td>\n",
       "      <td>GEODE7888</td>\n",
       "      <td>Euphaeidae</td>\n",
       "      <td>Euphaea</td>\n",
       "      <td>inouei</td>\n",
       "      <td>/nobackup/scratch/grp/grp_geode/raw_sequences/...</td>\n",
       "      <td>plate01</td>\n",
       "      <td>20kb</td>\n",
       "      <td>RAPiD-Genomics_F320_BYU_105603_P001_WA05_i5-53...</td>\n",
       "    </tr>\n",
       "    <tr>\n",
       "      <th>...</th>\n",
       "      <td>...</td>\n",
       "      <td>...</td>\n",
       "      <td>...</td>\n",
       "      <td>...</td>\n",
       "      <td>...</td>\n",
       "      <td>...</td>\n",
       "      <td>...</td>\n",
       "      <td>...</td>\n",
       "      <td>...</td>\n",
       "      <td>...</td>\n",
       "    </tr>\n",
       "    <tr>\n",
       "      <th>3090</th>\n",
       "      <td>GEODE18565_Corduliidae_Hemicordulia_chrysochlora</td>\n",
       "      <td>105603_P022_WH08</td>\n",
       "      <td>GEODE18565</td>\n",
       "      <td>Corduliidae</td>\n",
       "      <td>Hemicordulia</td>\n",
       "      <td>chrysochlora</td>\n",
       "      <td>/nobackup/scratch/grp/grp_geode/raw_sequences/...</td>\n",
       "      <td>plate22</td>\n",
       "      <td>20kb</td>\n",
       "      <td>RAPiD-Genomics_F391_BYU_105603_P022_WH08_i5-11...</td>\n",
       "    </tr>\n",
       "    <tr>\n",
       "      <th>3091</th>\n",
       "      <td>GEODE18566_Corduliidae_Procordulia_papandayane...</td>\n",
       "      <td>105603_P022_WH09</td>\n",
       "      <td>GEODE18566</td>\n",
       "      <td>Corduliidae</td>\n",
       "      <td>Procordulia</td>\n",
       "      <td>papandayanensis</td>\n",
       "      <td>/nobackup/scratch/grp/grp_geode/raw_sequences/...</td>\n",
       "      <td>plate22</td>\n",
       "      <td>20kb</td>\n",
       "      <td>RAPiD-Genomics_F391_BYU_105603_P022_WH09_i5-11...</td>\n",
       "    </tr>\n",
       "    <tr>\n",
       "      <th>3092</th>\n",
       "      <td>GEODE18057B_Synthemistidae_Apocordulia_macrops</td>\n",
       "      <td>105603_P022_WH10</td>\n",
       "      <td>GEODE18057B</td>\n",
       "      <td>Synthemistidae</td>\n",
       "      <td>Apocordulia</td>\n",
       "      <td>macrops</td>\n",
       "      <td>/nobackup/scratch/grp/grp_geode/raw_sequences/...</td>\n",
       "      <td>plate22</td>\n",
       "      <td>20kb</td>\n",
       "      <td>RAPiD-Genomics_F391_BYU_105603_P022_WH10_i5-11...</td>\n",
       "    </tr>\n",
       "    <tr>\n",
       "      <th>3093</th>\n",
       "      <td>GEODE18266_Synthemistidae_Choristhemis_olivei</td>\n",
       "      <td>105603_P022_WH11</td>\n",
       "      <td>GEODE18266</td>\n",
       "      <td>Synthemistidae</td>\n",
       "      <td>Choristhemis</td>\n",
       "      <td>olivei</td>\n",
       "      <td>/nobackup/scratch/grp/grp_geode/raw_sequences/...</td>\n",
       "      <td>plate22</td>\n",
       "      <td>20kb</td>\n",
       "      <td>RAPiD-Genomics_F391_BYU_105603_P022_WH11_i5-11...</td>\n",
       "    </tr>\n",
       "    <tr>\n",
       "      <th>3094</th>\n",
       "      <td>GEODE17878_Corduliidae_Neocordulia_androgynis</td>\n",
       "      <td>105603_P022_WH12</td>\n",
       "      <td>GEODE17878</td>\n",
       "      <td>Corduliidae</td>\n",
       "      <td>Neocordulia</td>\n",
       "      <td>androgynis</td>\n",
       "      <td>/nobackup/scratch/grp/grp_geode/raw_sequences/...</td>\n",
       "      <td>plate22</td>\n",
       "      <td>20kb</td>\n",
       "      <td>RAPiD-Genomics_F391_BYU_105603_P022_WH12_i5-11...</td>\n",
       "    </tr>\n",
       "  </tbody>\n",
       "</table>\n",
       "<p>3095 rows × 10 columns</p>\n",
       "</div>"
      ],
      "text/plain": [
       "                                                  names       sequence_id  \\\n",
       "0                  GEODE7884_Euphaeidae_Euphaea_guerini  105603_P001_WA01   \n",
       "1                GEODE7885_Euphaeidae_Euphaea_refulgens  105603_P001_WA02   \n",
       "2                GEODE7886_Euphaeidae_Euphaea_splendens  105603_P001_WA03   \n",
       "3                   GEODE7887_Euphaeidae_Euphaea_ornata  105603_P001_WA04   \n",
       "4                   GEODE7888_Euphaeidae_Euphaea_inouei  105603_P001_WA05   \n",
       "...                                                 ...               ...   \n",
       "3090   GEODE18565_Corduliidae_Hemicordulia_chrysochlora  105603_P022_WH08   \n",
       "3091  GEODE18566_Corduliidae_Procordulia_papandayane...  105603_P022_WH09   \n",
       "3092     GEODE18057B_Synthemistidae_Apocordulia_macrops  105603_P022_WH10   \n",
       "3093      GEODE18266_Synthemistidae_Choristhemis_olivei  105603_P022_WH11   \n",
       "3094      GEODE17878_Corduliidae_Neocordulia_androgynis  105603_P022_WH12   \n",
       "\n",
       "         geode_id          family         genus          species  \\\n",
       "0       GEODE7884      Euphaeidae       Euphaea          guerini   \n",
       "1       GEODE7885      Euphaeidae       Euphaea        refulgens   \n",
       "2       GEODE7886      Euphaeidae       Euphaea        splendens   \n",
       "3       GEODE7887      Euphaeidae       Euphaea           ornata   \n",
       "4       GEODE7888      Euphaeidae       Euphaea           inouei   \n",
       "...           ...             ...           ...              ...   \n",
       "3090   GEODE18565     Corduliidae  Hemicordulia     chrysochlora   \n",
       "3091   GEODE18566     Corduliidae   Procordulia  papandayanensis   \n",
       "3092  GEODE18057B  Synthemistidae   Apocordulia          macrops   \n",
       "3093   GEODE18266  Synthemistidae  Choristhemis           olivei   \n",
       "3094   GEODE17878     Corduliidae   Neocordulia       androgynis   \n",
       "\n",
       "                                                 folder    plate probe_set  \\\n",
       "0     /nobackup/scratch/grp/grp_geode/raw_sequences/...  plate01      20kb   \n",
       "1     /nobackup/scratch/grp/grp_geode/raw_sequences/...  plate01      20kb   \n",
       "2     /nobackup/scratch/grp/grp_geode/raw_sequences/...  plate01      20kb   \n",
       "3     /nobackup/scratch/grp/grp_geode/raw_sequences/...  plate01      20kb   \n",
       "4     /nobackup/scratch/grp/grp_geode/raw_sequences/...  plate01      20kb   \n",
       "...                                                 ...      ...       ...   \n",
       "3090  /nobackup/scratch/grp/grp_geode/raw_sequences/...  plate22      20kb   \n",
       "3091  /nobackup/scratch/grp/grp_geode/raw_sequences/...  plate22      20kb   \n",
       "3092  /nobackup/scratch/grp/grp_geode/raw_sequences/...  plate22      20kb   \n",
       "3093  /nobackup/scratch/grp/grp_geode/raw_sequences/...  plate22      20kb   \n",
       "3094  /nobackup/scratch/grp/grp_geode/raw_sequences/...  plate22      20kb   \n",
       "\n",
       "                                                  fastq  \n",
       "0     RAPiD-Genomics_F320_BYU_105603_P001_WA01_i5-53...  \n",
       "1     RAPiD-Genomics_F320_BYU_105603_P001_WA02_i5-53...  \n",
       "2     RAPiD-Genomics_F320_BYU_105603_P001_WA03_i5-53...  \n",
       "3     RAPiD-Genomics_F320_BYU_105603_P001_WA04_i5-53...  \n",
       "4     RAPiD-Genomics_F320_BYU_105603_P001_WA05_i5-53...  \n",
       "...                                                 ...  \n",
       "3090  RAPiD-Genomics_F391_BYU_105603_P022_WH08_i5-11...  \n",
       "3091  RAPiD-Genomics_F391_BYU_105603_P022_WH09_i5-11...  \n",
       "3092  RAPiD-Genomics_F391_BYU_105603_P022_WH10_i5-11...  \n",
       "3093  RAPiD-Genomics_F391_BYU_105603_P022_WH11_i5-11...  \n",
       "3094  RAPiD-Genomics_F391_BYU_105603_P022_WH12_i5-11...  \n",
       "\n",
       "[3095 rows x 10 columns]"
      ]
     },
     "execution_count": 33,
     "metadata": {},
     "output_type": "execute_result"
    }
   ],
   "source": [
    "geode_taxa_list"
   ]
  },
  {
   "cell_type": "markdown",
   "id": "6c49d77d-bc97-44fd-98b0-cb669d8c9a25",
   "metadata": {},
   "source": [
    "## Put dataframe into sqlite table"
   ]
  },
  {
   "cell_type": "code",
   "execution_count": 34,
   "id": "69d71a0b-c0c4-43fb-8f20-7c43317c6eb4",
   "metadata": {},
   "outputs": [],
   "source": [
    "import sqlite3"
   ]
  },
  {
   "cell_type": "code",
   "execution_count": 35,
   "id": "afe707f9-502d-4c09-93cb-b88239861994",
   "metadata": {},
   "outputs": [],
   "source": [
    "sqlite_db = '/nobackup/scratch/grp/grp_geode/payton/nextflow/geode.db'\n",
    "con = sqlite3.connect(sqlite_db)\n",
    "\n",
    "geode_taxa_list.to_sql('taxon', con, if_exists='replace', index=False)\n",
    "\n",
    "con.commit()\n",
    "con.close()"
   ]
  }
 ],
 "metadata": {
  "kernelspec": {
   "display_name": "Python 3 (ipykernel)",
   "language": "python",
   "name": "python3"
  },
  "language_info": {
   "codemirror_mode": {
    "name": "ipython",
    "version": 3
   },
   "file_extension": ".py",
   "mimetype": "text/x-python",
   "name": "python",
   "nbconvert_exporter": "python",
   "pygments_lexer": "ipython3",
   "version": "3.11.4"
  }
 },
 "nbformat": 4,
 "nbformat_minor": 5
}
